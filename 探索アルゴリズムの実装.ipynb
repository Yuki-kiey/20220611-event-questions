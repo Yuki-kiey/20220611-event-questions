{
  "nbformat": 4,
  "nbformat_minor": 0,
  "metadata": {
    "colab": {
      "name": "探索アルゴリズムの実装",
      "provenance": []
    },
    "kernelspec": {
      "name": "python3",
      "display_name": "Python 3"
    },
    "language_info": {
      "name": "python"
    }
  },
  "cells": [
    {
      "cell_type": "code",
      "execution_count": null,
      "metadata": {
        "id": "rRmR13AqKMH_"
      },
      "outputs": [],
      "source": [
        "import statistics\n",
        "\n",
        "def main():\n",
        "    # 昇順にソートされた配列\n",
        "    sorted_array = [1, 2, 3, 5, 12, 7890, 12345]\n",
        "    \n",
        "    # 探索対象の番号\n",
        "    target_number = 7890\n",
        "    # 探索実行\n",
        "    target_index = serch_index(sorted_array, target_number)\n",
        "    # 結果出力\n",
        "    print(target_index)\n",
        "\n",
        "def serch_index(sorted_array, target_number):\n",
        "  sorted_array_change = sorted_array #可変用の配列を用意\n",
        "  while True:\n",
        "     median_number = statistics.median(sorted_array_change) #中央の値を算出\n",
        "     if target_number not in sorted_array: #該当しない場合の対応\n",
        "      # 探索対象が存在しない場合、-1を返却\n",
        "      return(-1)\n",
        "      break\n",
        "     elif target_number == median_number: #該当する場合の対応\n",
        "      median_index = sorted_array.index(median_number)\n",
        "      # 元の配列を用いてターゲット値のindexを取得\n",
        "      return(median_index)\n",
        "      break\n",
        "     elif target_number > median_number: #ターゲットが中央の値より大きい場合\n",
        "      # 可変の配列を変化させる\n",
        "      sorted_array_change = [i for i in sorted_array_change if i > median_number]\n",
        "     else :#ターゲットが中央の値より小さい場合\n",
        "      # 可変の配列を変化させる\n",
        "      sorted_array_change = [i for i in sorted_array_change if i < median_number] \n",
        "\n",
        "if __name__ == '__main__':\n",
        "    main()"
      ]
    }
  ]
}